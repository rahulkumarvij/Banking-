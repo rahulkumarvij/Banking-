{
 "cells": [
  {
   "cell_type": "code",
   "execution_count": 1,
   "id": "c1a47616",
   "metadata": {},
   "outputs": [],
   "source": [
    "import pandas as pd\n",
    "import numpy as np\n",
    "from sklearn.ensemble import RandomForestClassifier\n",
    "from sklearn.preprocessing import StandardScaler\n",
    "from sklearn.model_selection import train_test_split\n",
    "from sklearn.metrics import accuracy_score\n",
    "\n",
    "# Load the data\n",
    "df = pd.read_csv(\"cs-training.csv\")"
   ]
  },
  {
   "cell_type": "code",
   "execution_count": 2,
   "id": "fda67ea8",
   "metadata": {},
   "outputs": [],
   "source": [
    "# Pre-processing\n",
    "df.fillna(df.mean(), inplace=True)\n",
    "df = df[df.MonthlyIncome < df.MonthlyIncome.quantile(0.95)]\n",
    "df = df[df.NumberOfDependents < df.NumberOfDependents.quantile(0.95)]"
   ]
  },
  {
   "cell_type": "code",
   "execution_count": 3,
   "id": "00753ee5",
   "metadata": {},
   "outputs": [
    {
     "data": {
      "text/plain": [
       "Index(['Unnamed: 0', 'SeriousDlqin2yrs',\n",
       "       'RevolvingUtilizationOfUnsecuredLines', 'age',\n",
       "       'NumberOfTime30-59DaysPastDueNotWorse', 'DebtRatio', 'MonthlyIncome',\n",
       "       'NumberOfOpenCreditLinesAndLoans', 'NumberOfTimes90DaysLate',\n",
       "       'NumberRealEstateLoansOrLines', 'NumberOfTime60-89DaysPastDueNotWorse',\n",
       "       'NumberOfDependents'],\n",
       "      dtype='object')"
      ]
     },
     "execution_count": 3,
     "metadata": {},
     "output_type": "execute_result"
    }
   ],
   "source": [
    "df.columns"
   ]
  },
  {
   "cell_type": "code",
   "execution_count": 4,
   "id": "22779f79",
   "metadata": {},
   "outputs": [],
   "source": [
    "# Feature selection\n",
    "features = [\"RevolvingUtilizationOfUnsecuredLines\", \"age\", \"NumberOfTime30-59DaysPastDueNotWorse\",\n",
    "            \"DebtRatio\", \"MonthlyIncome\", \"NumberOfOpenCreditLinesAndLoans\",\n",
    "            \"NumberOfTimes90DaysLate\", \"NumberRealEstateLoansOrLines\", \"NumberOfTime60-89DaysPastDueNotWorse\",\n",
    "            \"NumberOfDependents\"]\n",
    "target = \"SeriousDlqin2yrs\""
   ]
  },
  {
   "cell_type": "code",
   "execution_count": 5,
   "id": "f0a70c1e",
   "metadata": {},
   "outputs": [],
   "source": [
    "# Split the data into training and test sets\n",
    "X_train, X_test, y_train, y_test = train_test_split(df[features], df[target], test_size=0.2, random_state=42)\n",
    "\n",
    "# Scale the data\n",
    "scaler = StandardScaler()\n",
    "X_train = scaler.fit_transform(X_train)\n",
    "X_test = scaler.transform(X_test)"
   ]
  },
  {
   "cell_type": "code",
   "execution_count": 6,
   "id": "2858027d",
   "metadata": {},
   "outputs": [],
   "source": [
    "# Train the model\n",
    "model = RandomForestClassifier()\n",
    "model.fit(X_train, y_train)\n",
    "\n",
    "# Predict on test data\n",
    "y_pred = model.predict(X_test)"
   ]
  },
  {
   "cell_type": "code",
   "execution_count": 8,
   "id": "f5475c07",
   "metadata": {},
   "outputs": [
    {
     "name": "stdout",
     "output_type": "stream",
     "text": [
      "              precision    recall  f1-score   support\n",
      "\n",
      "           0       0.94      0.99      0.97     24341\n",
      "           1       0.51      0.18      0.27      1740\n",
      "\n",
      "    accuracy                           0.93     26081\n",
      "   macro avg       0.73      0.58      0.62     26081\n",
      "weighted avg       0.92      0.93      0.92     26081\n",
      "\n"
     ]
    }
   ],
   "source": [
    "from sklearn.metrics import classification_report\n",
    "print(classification_report(y_test, y_pred))"
   ]
  },
  {
   "cell_type": "code",
   "execution_count": null,
   "id": "68d8b956",
   "metadata": {},
   "outputs": [],
   "source": []
  }
 ],
 "metadata": {
  "kernelspec": {
   "display_name": "Python 3 (ipykernel)",
   "language": "python",
   "name": "python3"
  },
  "language_info": {
   "codemirror_mode": {
    "name": "ipython",
    "version": 3
   },
   "file_extension": ".py",
   "mimetype": "text/x-python",
   "name": "python",
   "nbconvert_exporter": "python",
   "pygments_lexer": "ipython3",
   "version": "3.10.9"
  }
 },
 "nbformat": 4,
 "nbformat_minor": 5
}
